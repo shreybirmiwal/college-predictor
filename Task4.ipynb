{
 "cells": [
  {
   "cell_type": "markdown",
   "metadata": {},
   "source": [
    "skip residence \n",
    "skip aps"
   ]
  },
  {
   "cell_type": "code",
   "execution_count": 13,
   "metadata": {},
   "outputs": [],
   "source": [
    "#gets data from the college results reddit\n",
    "\n",
    "from dotenv import load_dotenv\n",
    "import os\n",
    "import praw\n",
    "\n",
    "load_dotenv()\n",
    "\n",
    "reddit = praw.Reddit(\n",
    "    client_id = os.getenv(\"CLIENT_ID\"), \n",
    "    client_secret = os.getenv(\"CLIENT_SECRET\"), \n",
    "    user_agent = os.getenv(\"USER_AGENT\"), \n",
    ")\n",
    "\n",
    "posts = []\n",
    "\n",
    "for submission in reddit.subreddit(\"collegeresults\").hot(limit=2):\n",
    "    #print(submission.title)\n",
    "    #print(submission.selftext)\n",
    "    posts.append(submission.selftext)\n"
   ]
  },
  {
   "cell_type": "code",
   "execution_count": 15,
   "metadata": {},
   "outputs": [
    {
     "name": "stdout",
     "output_type": "stream",
     "text": [
      "{'model': 'llama3', 'created_at': '2024-06-30T12:52:35.997314Z', 'message': {'role': 'assistant', 'content': '{\\n  \"Gender\": \"Male\",\\n  \"Race\": \"0 (White)\",\\n  \"Income Bracket\": \"-1 (missing data)\",\\n  \"Type of School\": \"1 (Large Public)\",\\n  \"Hooks\": \"0 (Legacy) and 2 (URM)\",\\n  \"Intended Major(s)\": \"0 (STEM), specifically Computer Science\",\\n  \"GPA (UW/W)\": \"5 (4.00)\",\\n  \"Rank (or percentile)\": \"3 (Top 50%)\",\\n  \"# of Honors/AP/IB/Dual Enrollment/etc.\": \"8\",\\n  \"Senior Year Course Load\": \"-1 (missing data)\",\\n  \"SAT\": \"1580\",\\n  \"ACT\": \"35\",\\n  \"Extra Curriculars\": \"[1) Robotics team mechanics captain, 2) CS tutor at local nonprofit with 100 students weekly, 3) software dev intern at a big tech firm, 4) AI reserach at local university, 5) YouTube channel with 50,000 views weekly, 6) Editor at an international science journal for high schoolers, 7) President of school\\'s AI club, 8) Musician performing with school orchestra and choir, 9) Developed competition winning device, 10) SAT tutor]\",\\n  \"Awards\": \"[Informatics Olympiads National Team, National and International Robotics Competition Awards, International service award]\",\\n  \"Letters of rec\": \"-1 (missing data)\",\\n  \"Interviews\": \"-1 (missing data)\",\\n  \"Essays\": \"[Common App - personal montage essay, Supplementals - spent a lot of time on them]\",\\n  \"Acceptances\": [\"Stanford\", \"Yale\", \"Duke\", \"UPenn\", \"Georgia Tech CS\", \"Vanderbilt\", \"UVA\", \"Rutgers NB\"],\\n  \"Waitlists\": [],\\n  \"Rejections\": []\\n}'}, 'done_reason': 'stop', 'done': True, 'total_duration': 164971554958, 'load_duration': 23273458, 'prompt_eval_duration': 8017684000, 'eval_count': 390, 'eval_duration': 156788501000}\n"
     ]
    },
    {
     "ename": "KeyError",
     "evalue": "'response'",
     "output_type": "error",
     "traceback": [
      "\u001b[0;31m---------------------------------------------------------------------------\u001b[0m",
      "\u001b[0;31mKeyError\u001b[0m                                  Traceback (most recent call last)",
      "Cell \u001b[0;32mIn[15], line 75\u001b[0m\n\u001b[1;32m     39\u001b[0m response \u001b[38;5;241m=\u001b[39m ollama\u001b[38;5;241m.\u001b[39mchat(\n\u001b[1;32m     40\u001b[0m     model\u001b[38;5;241m=\u001b[39m\u001b[38;5;124m'\u001b[39m\u001b[38;5;124mllama3\u001b[39m\u001b[38;5;124m'\u001b[39m,\n\u001b[1;32m     41\u001b[0m     \u001b[38;5;28mformat\u001b[39m\u001b[38;5;241m=\u001b[39m\u001b[38;5;124m'\u001b[39m\u001b[38;5;124mjson\u001b[39m\u001b[38;5;124m'\u001b[39m,\n\u001b[0;32m   (...)\u001b[0m\n\u001b[1;32m     71\u001b[0m     ],\n\u001b[1;32m     72\u001b[0m )\n\u001b[1;32m     74\u001b[0m \u001b[38;5;28mprint\u001b[39m(response)\n\u001b[0;32m---> 75\u001b[0m \u001b[38;5;28mprint\u001b[39m(\u001b[43mresponse\u001b[49m\u001b[43m[\u001b[49m\u001b[38;5;124;43m'\u001b[39;49m\u001b[38;5;124;43mresponse\u001b[39;49m\u001b[38;5;124;43m'\u001b[39;49m\u001b[43m]\u001b[49m)\n\u001b[1;32m     76\u001b[0m extracted_data\u001b[38;5;241m.\u001b[39mappend(response[\u001b[38;5;124m'\u001b[39m\u001b[38;5;124mresponse\u001b[39m\u001b[38;5;124m'\u001b[39m])\n\u001b[1;32m     77\u001b[0m original_posts\u001b[38;5;241m.\u001b[39mappend(post)\n",
      "\u001b[0;31mKeyError\u001b[0m: 'response'"
     ]
    }
   ],
   "source": [
    "import os\n",
    "import json\n",
    "import pandas as pd\n",
    "import ollama\n",
    "\n",
    "\n",
    "\n",
    "expected_format = {\n",
    "    \"Gender\": \"Male/Female\",\n",
    "    \"Race\": \"\",\n",
    "    \"Income Bracket\": \"\",\n",
    "    \"Type of School\": \"\",\n",
    "    \"Hooks\": \"\",\n",
    "    \"Intended Major(s)\": \"\",\n",
    "    \"GPA (UW/W)\": \"\",\n",
    "    \"Rank (or percentile)\": \"\",\n",
    "    \"# of Honors/AP/IB/Dual Enrollment/etc.\": \"\",\n",
    "    \"Senior Year Course Load\": \"\",\n",
    "    \"SAT\": \"1400\",\n",
    "    \"ACT\": \"35\",\n",
    "    \"Extra Curriculars\": \"\",\n",
    "    \"Awards\": \"\",\n",
    "    \"Letters of rec\": \"\",\n",
    "    \"Interviews\": \"\",\n",
    "    \"Essays\": \"\",\n",
    "    \"Acceptances\": [],\n",
    "    \"Waitlists\": [],\n",
    "    \"Rejections\": []\n",
    "}\n",
    "\n",
    "extracted_data = []\n",
    "original_posts = []\n",
    "\n",
    "for post in posts:\n",
    "    lower_ed = post.lower()\n",
    "    if(lower_ed.find(\"accepted\") == -1 and lower_ed.find(\"acceptance\") == -1):\n",
    "        continue\n",
    "    \n",
    "    response = ollama.chat(\n",
    "        model='llama3',\n",
    "        format='json',\n",
    "        messages=[\n",
    "            {\"role\": \"system\", \"content\": \"\"\"Extract the following details from the post and return in JSON format. Use the following key. Make your best judgement for each.\n",
    "            Gender: -1(missing data), 0(male), 1(female), 2(other)\n",
    "            Race: -1(missing data), 0(white), 1(black), 2(hispanic), 3(asian), 4(other)\n",
    "            Income Bracket: -1(missing data), 0(0-20k), 1(20k-40k), 2(40k-60k), 3(60k-80k), 4(80k-100k), 5(100k-120k), 6(120k-140k), 7(140k-160k), 8(160k-180k), 9(180k-200k), 10(200k+)\n",
    "            Type of School: -1(missing data), 0(small public), 1(large public), 2(private), 3(international), 4(home school), 5(other)\n",
    "            Hooks: -1(missing data or none), 0(legacy), 1(athlete), 2(URM), 3(first gen), 4(other)\n",
    "            Intended Major(s): -1(missing data), 0(STEM), 1(Humanities), 2(Business), 3(Art), 4(Other)\n",
    "            GPA (UW/W): -1(missing data), 0(0-2.0), 1(2.0-2.5), 2(2.5-3.0), 3(3.0-3.5), 4(3.5-4.0), 5(4.0+)\n",
    "            Rank (or percentile): -1(missing data), 0(top 5%), 1(top 10%), 2(top 25%), 3(top 50%), 4(top 100%)\n",
    "            # of Honors/AP/IB/Dual Enrollment/etc.: -1(missing data), 0(0-5), 1(5-10), 2(10-15), 3(15-20), 4(20+)\n",
    "            Senior Year Course Load: -1(missing data), 0(Difficulty 1-3), 1(Difficulty 4-6), 2(Difficulty 7-9), 3(Difficulty 10)\n",
    "            SAT: -1(missing data), 0(1000-1100), 1(1100-1200), 2(1200-1300), 3(1300-1400), 4(1400-1500), 5(1500-1600)\n",
    "            ACT: -1(missing data), 0(10-20), 1(21-25), 2(26-30), 3(31-33), 4(34-35), 5(36)\n",
    "            Extra Curriculars: [SCORE HERE FROM 1-10 ON HOW IMPRESSIVE, DIFFICULT, OR TIME-CONSUMING THE EC'S ARE. -1 if missing data]\n",
    "            Awards: [SCORE HERE FROM 1-10 ON HOW IMPRESSIVE, DIFFICULT, OR TIME-CONSUMING THE AWARDS ARE. -1 if missing data]\n",
    "            Letters of rec: [SCORE HERE FROM 1-10 ON HOW STRONG THE LETTERS OF REC ARE. -1 if missing data]\n",
    "            Interviews: [SCORE HERE FROM 1-10 ON HOW STRONG THE INTERVIEWS ARE. -1 if missing data]\n",
    "            Essays: [SCORE HERE FROM 1-10 ON HOW STRONG THE ESSAYS ARE. -1 if missing data]\n",
    "            Acceptances: [LIST OF COLLEGES ACCEPTED TO]\n",
    "            Waitlists: [LIST OF COLLEGES WAITLISTED TO]\n",
    "            Rejections: [LIST OF COLLEGES REJECTED FROM]\n",
    "            \"\"\"},\n",
    "            {\"role\": \"user\", \"content\": f\"\"\"\n",
    "            Post:\n",
    "            {post}\n",
    "            Extract the following details and return in JSON format:\n",
    "            {json.dumps(expected_format, indent=2)}\n",
    "            \"\"\"}\n",
    "        ],\n",
    "    )\n",
    "    \n",
    "    print(response)\n",
    "    print(response['response'])\n",
    "    extracted_data.append(response['response'])\n",
    "    original_posts.append(post)\n",
    "\n",
    "extracted_data_dicts = [json.loads(data) for data in extracted_data]\n",
    "df = pd.DataFrame(extracted_data_dicts)\n",
    "\n",
    "df['Original Post'] = original_posts\n",
    "\n",
    "df.to_csv('data_new_clean_test.csv', index=False)"
   ]
  }
 ],
 "metadata": {
  "kernelspec": {
   "display_name": "Python 3",
   "language": "python",
   "name": "python3"
  },
  "language_info": {
   "codemirror_mode": {
    "name": "ipython",
    "version": 3
   },
   "file_extension": ".py",
   "mimetype": "text/x-python",
   "name": "python",
   "nbconvert_exporter": "python",
   "pygments_lexer": "ipython3",
   "version": "3.11.9"
  }
 },
 "nbformat": 4,
 "nbformat_minor": 2
}
