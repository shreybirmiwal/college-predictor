{
 "cells": [
  {
   "cell_type": "markdown",
   "metadata": {},
   "source": [
    "skip residence \n",
    "skip aps"
   ]
  },
  {
   "cell_type": "code",
   "execution_count": 2,
   "metadata": {},
   "outputs": [
    {
     "ename": "ModuleNotFoundError",
     "evalue": "No module named 'dotenv'",
     "output_type": "error",
     "traceback": [
      "\u001b[1;31m---------------------------------------------------------------------------\u001b[0m",
      "\u001b[1;31mModuleNotFoundError\u001b[0m                       Traceback (most recent call last)",
      "Cell \u001b[1;32mIn[2], line 3\u001b[0m\n\u001b[0;32m      1\u001b[0m \u001b[38;5;66;03m#gets data from the college results reddit\u001b[39;00m\n\u001b[1;32m----> 3\u001b[0m \u001b[38;5;28;01mfrom\u001b[39;00m \u001b[38;5;21;01mdotenv\u001b[39;00m \u001b[38;5;28;01mimport\u001b[39;00m load_dotenv\n\u001b[0;32m      4\u001b[0m \u001b[38;5;28;01mimport\u001b[39;00m \u001b[38;5;21;01mos\u001b[39;00m\n\u001b[0;32m      5\u001b[0m \u001b[38;5;28;01mimport\u001b[39;00m \u001b[38;5;21;01mpraw\u001b[39;00m\n",
      "\u001b[1;31mModuleNotFoundError\u001b[0m: No module named 'dotenv'"
     ]
    }
   ],
   "source": [
    "#gets data from the college results reddit\n",
    "\n",
    "from dotenv import load_dotenv\n",
    "import os\n",
    "import praw\n",
    "\n",
    "load_dotenv()\n",
    "\n",
    "reddit = praw.Reddit(\n",
    "    client_id = os.getenv(\"CLIENT_ID\"), \n",
    "    client_secret = os.getenv(\"CLIENT_SECRET\"), \n",
    "    user_agent = os.getenv(\"USER_AGENT\"), \n",
    ")\n",
    "\n",
    "posts = []\n",
    "\n",
    "for submission in reddit.subreddit(\"collegeresults\").hot(limit=5):\n",
    "    #print(submission.title)\n",
    "    #print(submission.selftext)\n",
    "    posts.append(submission.selftext)\n"
   ]
  },
  {
   "cell_type": "code",
   "execution_count": 4,
   "metadata": {},
   "outputs": [
    {
     "ename": "ModuleNotFoundError",
     "evalue": "No module named 'openai'",
     "output_type": "error",
     "traceback": [
      "\u001b[1;31m---------------------------------------------------------------------------\u001b[0m",
      "\u001b[1;31mModuleNotFoundError\u001b[0m                       Traceback (most recent call last)",
      "Cell \u001b[1;32mIn[4], line 4\u001b[0m\n\u001b[0;32m      2\u001b[0m \u001b[38;5;28;01mimport\u001b[39;00m \u001b[38;5;21;01mjson\u001b[39;00m\n\u001b[0;32m      3\u001b[0m \u001b[38;5;28;01mimport\u001b[39;00m \u001b[38;5;21;01mpandas\u001b[39;00m \u001b[38;5;28;01mas\u001b[39;00m \u001b[38;5;21;01mpd\u001b[39;00m\n\u001b[1;32m----> 4\u001b[0m \u001b[38;5;28;01mfrom\u001b[39;00m \u001b[38;5;21;01mopenai\u001b[39;00m \u001b[38;5;28;01mimport\u001b[39;00m OpenAI\n\u001b[0;32m      5\u001b[0m \u001b[38;5;28;01mimport\u001b[39;00m \u001b[38;5;21;01mollama\u001b[39;00m\n\u001b[0;32m      7\u001b[0m client \u001b[38;5;241m=\u001b[39m OpenAI(\n\u001b[0;32m      8\u001b[0m     api_key\u001b[38;5;241m=\u001b[39mos\u001b[38;5;241m.\u001b[39menviron[\u001b[38;5;124m'\u001b[39m\u001b[38;5;124mOPENAI_API_KEY\u001b[39m\u001b[38;5;124m'\u001b[39m]\n\u001b[0;32m      9\u001b[0m )\n",
      "\u001b[1;31mModuleNotFoundError\u001b[0m: No module named 'openai'"
     ]
    }
   ],
   "source": [
    "import os\n",
    "import json\n",
    "import pandas as pd\n",
    "import ollama\n",
    "\n",
    "\n",
    "\n",
    "expected_format = {\n",
    "    \"Gender\": \"Male/Female\",\n",
    "    \"Race\": \"\",\n",
    "    \"Income Bracket\": \"\",\n",
    "    \"Type of School\": \"\",\n",
    "    \"Hooks\": \"\",\n",
    "    \"Intended Major(s)\": \"\",\n",
    "    \"GPA (UW/W)\": \"\",\n",
    "    \"Rank (or percentile)\": \"\",\n",
    "    \"# of Honors/AP/IB/Dual Enrollment/etc.\": \"\",\n",
    "    \"Senior Year Course Load\": \"\",\n",
    "    \"SAT\": \"1400\",\n",
    "    \"ACT\": \"35\",\n",
    "    \"Extra Curriculars\": \"\",\n",
    "    \"Awards\": \"\",\n",
    "    \"Letters of rec\": \"\",\n",
    "    \"Interviews\": \"\",\n",
    "    \"Essays\": \"\",\n",
    "    \"Acceptances\": [],\n",
    "    \"Waitlists\": [],\n",
    "    \"Rejections\": []\n",
    "}\n",
    "\n",
    "extracted_data = []\n",
    "original_posts = []\n",
    "\n",
    "for post in posts:\n",
    "    lower_ed = post.lower()\n",
    "    if(lower_ed.find(\"accepted\") == -1 and lower_ed.find(\"acceptance\") == -1):\n",
    "        continue\n",
    "    \n",
    "    response = ollama.chat(model='llama3', \n",
    "        messages=[\n",
    "            {\"role\": \"system\", \"content\": \"\"\"Extract the following details from the post and return in JSON format. Use the following key. Make your best judgement for each.\n",
    "            Gender: -1(missing data), 0(male), 1(female), 2(other)\n",
    "            Race: -1(missing data), 0(white), 1(black), 2(hispanic), 3(asian), 4(other)\n",
    "            Income Bracket: -1(missing data), 0(0-20k), 1(20k-40k), 2(40k-60k), 3(60k-80k), 4(80k-100k), 5(100k-120k), 6(120k-140k), 7(140k-160k), 8(160k-180k), 9(180k-200k), 10(200k+)\n",
    "            Type of School: -1(missing data), 0(small public), 1(large public), 2(private), 3(international), 4(home school), 5(other)\n",
    "            Hooks: -1(missing data or none), 0(legacy), 1(athlete), 2(URM), 3(first gen), 4(other)\n",
    "            Intended Major(s): -1(missing data), 0(STEM), 1(Humanities), 2(Business), 3(Art), 4(Other)\n",
    "            GPA (UW/W): -1(missing data), 0(0-2.0), 1(2.0-2.5), 2(2.5-3.0), 3(3.0-3.5), 4(3.5-4.0), 5(4.0+)\n",
    "            Rank (or percentile): -1(missing data), 0(top 5%), 1(top 10%), 2(top 25%), 3(top 50%), 4(top 100%)\n",
    "            # of Honors/AP/IB/Dual Enrollment/etc.: -1(missing data), 0(0-5), 1(5-10), 2(10-15), 3(15-20), 4(20+)\n",
    "            Senior Year Course Load: -1(missing data), 0(Difficulty 1-3), 1(Difficulty 4-6), 2(Difficulty 7-9), 3(Difficulty 10)\n",
    "            SAT: -1(missing data), 0(1000-1100), 1(1100-1200), 2(1200-1300), 3(1300-1400), 4(1400-1500), 5(1500-1600)\n",
    "            ACT: -1(missing data), 0(10-20), 1(21-25), 2(26-30), 3(31-33), 4(34-35), 5(36)\n",
    "            Extra Curriculars: [SCORE HERE FROM 1-10 ON HOW IMPRESSIVE, DIFFICULT, OR TIME-CONSUMING THE EC'S ARE. -1 if missing data]\n",
    "            Awards: [SCORE HERE FROM 1-10 ON HOW IMPRESSIVE, DIFFICULT, OR TIME-CONSUMING THE AWARDS ARE. -1 if missing data]\n",
    "            Letters of rec: [SCORE HERE FROM 1-10 ON HOW STRONG THE LETTERS OF REC ARE. -1 if missing data]\n",
    "            Interviews: [SCORE HERE FROM 1-10 ON HOW STRONG THE INTERVIEWS ARE. -1 if missing data]\n",
    "            Essays: [SCORE HERE FROM 1-10 ON HOW STRONG THE ESSAYS ARE. -1 if missing data]\n",
    "            Acceptances: [LIST OF COLLEGES ACCEPTED TO]\n",
    "            Waitlists: [LIST OF COLLEGES WAITLISTED TO]\n",
    "            Rejections: [LIST OF COLLEGES REJECTED FROM]\n",
    "            \"\"\"},\n",
    "            {\"role\": \"user\", \"content\": f\"\"\"\n",
    "            Post:\n",
    "            {post}\n",
    "            Extract the following details and return in JSON format:\n",
    "            {json.dumps(expected_format, indent=2)}\n",
    "            \"\"\"}\n",
    "        ],\n",
    "        temperature=0,\n",
    "        response_format={\"type\": \"json_object\"}\n",
    "    )\n",
    "    \n",
    "    extracted_data.append(response.choices[0].message.content)\n",
    "    original_posts.append(post)\n",
    "\n",
    "extracted_data_dicts = [json.loads(data) for data in extracted_data]\n",
    "df = pd.DataFrame(extracted_data_dicts)\n",
    "\n",
    "df['Original Post'] = original_posts\n",
    "\n",
    "df.to_csv('data_new_clean_test.csv', index=False)"
   ]
  },
  {
   "cell_type": "code",
   "execution_count": null,
   "metadata": {},
   "outputs": [],
   "source": []
  }
 ],
 "metadata": {
  "kernelspec": {
   "display_name": "Python 3",
   "language": "python",
   "name": "python3"
  },
  "language_info": {
   "codemirror_mode": {
    "name": "ipython",
    "version": 3
   },
   "file_extension": ".py",
   "mimetype": "text/x-python",
   "name": "python",
   "nbconvert_exporter": "python",
   "pygments_lexer": "ipython3",
   "version": "3.11.9"
  }
 },
 "nbformat": 4,
 "nbformat_minor": 2
}
