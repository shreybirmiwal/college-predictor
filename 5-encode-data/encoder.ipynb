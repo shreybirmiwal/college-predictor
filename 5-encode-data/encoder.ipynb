{
 "cells": [
  {
   "cell_type": "code",
   "execution_count": 41,
   "metadata": {},
   "outputs": [],
   "source": [
    "import pandas as pd\n",
    "import numpy as np"
   ]
  },
  {
   "cell_type": "code",
   "execution_count": 88,
   "metadata": {},
   "outputs": [
    {
     "name": "stdout",
     "output_type": "stream",
     "text": [
      "Gender Gender\n",
      "M        1263\n",
      "F         881\n",
      "NB         54\n",
      "OTHER      28\n",
      "T          21\n",
      "Name: count, dtype: int64\n",
      "\n",
      "##################################\n",
      "\n",
      "Race Race\n",
      "ASAIN       1174\n",
      "WHITE        675\n",
      "BLACK        205\n",
      "HISPANIC     111\n",
      "OTHER         29\n",
      "MISSING       25\n",
      "ARAB          15\n",
      "MIXED          9\n",
      "NATIVE         4\n",
      "Name: count, dtype: int64\n"
     ]
    }
   ],
   "source": [
    "df = pd.read_csv('in.csv')\n",
    "\n",
    "\n",
    "def encodeGender(row):\n",
    "    text = str(row['Gender']).lower().strip()\n",
    "\n",
    "    if \"trans\" in text or \"transgender\" in text:\n",
    "        return 'T'\n",
    "    elif \"non-binary\" in text or \"nonbinary\" in text or \"non binary\" in text:\n",
    "        return 'NB'\n",
    "    elif \"female\" in text or \"girl\" in text or text=='f' or \"woman\" in text:\n",
    "        return 'F'\n",
    "    elif \"male\" in text or \"dude\" in text or text=='m' or \"man\" in text or \"guy\" in text:\n",
    "        #male INCLDUES Female SO MUST go after\n",
    "        return 'M'\n",
    "    elif \"-1\" in text:\n",
    "        return 'MISSING'\n",
    "    else:\n",
    "        return 'OTHER'\n",
    "\n",
    "\n",
    "\n",
    "def encodeRace(row):\n",
    "    text = str(row['Race']).lower().strip()\n",
    "\n",
    "    if \"asian\" in text or \"indian\" in text or \"chinese\" in text or \"japanese\" in text or \"korean\" in text or \"filipino\" in text or \"vietnamese\" in text or \"thai\" in text or \"taiwanese\" in text or \"rice\" in text or \"pakistani\" in text or \"sri lank\" in text or \"pacific islander\" in text or \"hindu\" in text or \"korea\" in text or \"brown\" in text or \"tunak\" in text or \"Malaysi\" in text:\n",
    "        return \"ASAIN\"\n",
    "    elif \"white\" in text or \"caucasian\" in text or \"european\" in text or \"anglo\" in text or \"irish\" in text or \"italian\" in text or \"german\" in text:\n",
    "        return \"WHITE\"\n",
    "    elif \"black\" in text or \"african\" in text or \"haitian\" in text or \"jamaican\" in text or \"nigerian\" in text or \"ethiopian\" in text or \"somalian\" in text or \"kenya\" in text:\n",
    "        return \"BLACK\"\n",
    "    elif \"hispanic\" in text or \"latino\" in text or \"mexican\" in text or \"puerto rican\" in text or \"cuban\" in text or \"dominican\" in text or \"salvadoran\" in text or \"carribean\" in text or \"latino\" in text or \"latina\" in text:\n",
    "        return \"HISPANIC\"\n",
    "    elif \"arab\" in text or \"middle\" in text or \"persian\" in text or \"turkish\" in text or \"egyptian\" in text or \"syrian\" in text or \"iraqi\" in text or \"lebanese\" in text or \"jordanian\" in text or \"palestinian\" in text or \"israeli\" in text or \"yemeni\" in text or \"saudi\" in text or \"kuwaiti\" in text or \"qatari\" in text or \"emirati\" in text or \"omanian\" in text or \"bahraini\" in text:\n",
    "        return \"ARAB\"\n",
    "    elif \"native\" in text:\n",
    "        return \"NATIVE\"\n",
    "    elif \"mixed\" in text or \"multi\" in text or \"bi\" in text:\n",
    "        return \"MIXED\"\n",
    "    elif \"-1\" in text:\n",
    "        return \"MISSING\"\n",
    "    elif \"-1\" in text:\n",
    "         return 'MISSING'\n",
    "    else:\n",
    "         return 'OTHER'\n",
    "\n",
    "\n",
    "\n",
    "df[\"Gender\"] = df.apply(encodeGender, axis=1)\n",
    "print(\"Gender\", df[\"Gender\"].value_counts())\n",
    "\n",
    "print(f\"\\n##################################\\n\")\n",
    "\n",
    "df[\"Race\"] = df.apply(encodeRace, axis=1)\n",
    "print(\"Race\", df[\"Race\"].value_counts())\n",
    "\n",
    "\n",
    "\n",
    "#make sure to put OG sheet next to this to make sure it is correct after!"
   ]
  }
 ],
 "metadata": {
  "kernelspec": {
   "display_name": "Python 3",
   "language": "python",
   "name": "python3"
  },
  "language_info": {
   "codemirror_mode": {
    "name": "ipython",
    "version": 3
   },
   "file_extension": ".py",
   "mimetype": "text/x-python",
   "name": "python",
   "nbconvert_exporter": "python",
   "pygments_lexer": "ipython3",
   "version": "3.11.9"
  }
 },
 "nbformat": 4,
 "nbformat_minor": 2
}
