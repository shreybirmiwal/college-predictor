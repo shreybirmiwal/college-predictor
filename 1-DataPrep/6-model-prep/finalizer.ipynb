{
 "cells": [
  {
   "cell_type": "code",
   "execution_count": 9,
   "metadata": {},
   "outputs": [],
   "source": [
    "import pandas as pd\n",
    "import numpy as np\n",
    "\n",
    "df = pd.read_csv('model-dataset.csv')\n",
    "\n",
    "\n",
    "\n",
    "def cleanRank(row):\n",
    "    text = str(row['Rank'])\n",
    "    if '%' in text:\n",
    "        text = text.replace('%', '')\n",
    "        if text.isnumeric():\n",
    "            return int(text)\n",
    "    \n",
    "    return text\n",
    "    \n",
    "\n",
    "\n",
    "df['Rank'] = df.apply(cleanRank, axis=1)\n",
    "df.rename(columns={'Rank': 'Rank%'}, inplace=True)\n",
    "\n",
    "df.to_csv('model-dataset.csv', index=False)"
   ]
  },
  {
   "cell_type": "code",
   "execution_count": 13,
   "metadata": {},
   "outputs": [],
   "source": [
    "df\n",
    "\n",
    "df['Race'] = df['Race'].replace('MISSING', -1)\n",
    "\n",
    "df['Residence'] = df['Residence'].replace('MISSING', -1)\n",
    "\n",
    "df['School Type'] = df['School Type'].replace('MISSING', -1)\n",
    "df['School Type'] = df['School Type'].replace('OTHER', -1)\n",
    "\n",
    "df['Rank%'] = df['Rank%'].replace('MISSING', -1)\n",
    "df['Rank%'] = df['Rank%'].replace('OTHER', -1)\n",
    "\n",
    "df['SAT'] = df['SAT'].replace('MISSING', -1)\n",
    "df['SAT'] = df['SAT'].replace('OTHER', -1)\n",
    "\n",
    "df['ACT'] = df['ACT'].replace('MISSING', -1)\n",
    "df['ACT'] = df['ACT'].replace('OTHER', -1)\n",
    "\n",
    "df['Major'] = df['Major'].replace('MISSING', -1)\n",
    "df['Major'] = df['Major'].replace('OTHER', -1)\n",
    "\n",
    "df.to_csv('model-dataset.csv', index=False)"
   ]
  },
  {
   "cell_type": "code",
   "execution_count": null,
   "metadata": {},
   "outputs": [],
   "source": []
  }
 ],
 "metadata": {
  "kernelspec": {
   "display_name": "Python 3",
   "language": "python",
   "name": "python3"
  },
  "language_info": {
   "codemirror_mode": {
    "name": "ipython",
    "version": 3
   },
   "file_extension": ".py",
   "mimetype": "text/x-python",
   "name": "python",
   "nbconvert_exporter": "python",
   "pygments_lexer": "ipython3",
   "version": "3.11.9"
  }
 },
 "nbformat": 4,
 "nbformat_minor": 2
}
