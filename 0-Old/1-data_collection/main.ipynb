{
 "cells": [
  {
   "cell_type": "code",
   "execution_count": null,
   "metadata": {},
   "outputs": [],
   "source": [
    "#gets data from the college results reddit\n",
    "\n",
    "from dotenv import load_dotenv\n",
    "import os\n",
    "import praw\n",
    "\n",
    "load_dotenv()\n",
    "\n",
    "reddit = praw.Reddit(\n",
    "    client_id = os.getenv(\"CLIENT_ID\"), \n",
    "    client_secret = os.getenv(\"CLIENT_SECRET\"), \n",
    "    user_agent = os.getenv(\"USER_AGENT\"), \n",
    ")\n",
    "\n",
    "\n",
    "for submission in reddit.subreddit(\"collegeresults\").hot(limit=100):\n",
    "    #print(submission)\n",
    "    #print(submission.selftext)\n"
   ]
  }
 ],
 "metadata": {
  "kernelspec": {
   "display_name": "Python 3",
   "language": "python",
   "name": "python3"
  },
  "language_info": {
   "name": "python",
   "version": "3.11.9"
  }
 },
 "nbformat": 4,
 "nbformat_minor": 2
}
